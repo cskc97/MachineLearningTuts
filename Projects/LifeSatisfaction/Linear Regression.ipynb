{
 "cells": [
  {
   "cell_type": "code",
   "execution_count": 82,
   "metadata": {
    "collapsed": false
   },
   "outputs": [],
   "source": [
    "%matplotlib inline\n",
    "import matplotlib\n",
    "import matplotlib.pyplot as plt\n",
    "import pandas as pd\n",
    "import numpy as np\n",
    "import sklearn\n",
    "import sklearn.linear_model\n",
    "import sklearn.preprocessing\n",
    "from sklearn.preprocessing import scale\n",
    "\n",
    "\n",
    "\n",
    "\n"
   ]
  },
  {
   "cell_type": "code",
   "execution_count": 83,
   "metadata": {
    "collapsed": false
   },
   "outputs": [
    {
     "data": {
      "text/html": [
       "<div>\n",
       "<style>\n",
       "    .dataframe thead tr:only-child th {\n",
       "        text-align: right;\n",
       "    }\n",
       "\n",
       "    .dataframe thead th {\n",
       "        text-align: left;\n",
       "    }\n",
       "\n",
       "    .dataframe tbody tr th {\n",
       "        vertical-align: top;\n",
       "    }\n",
       "</style>\n",
       "<table border=\"1\" class=\"dataframe\">\n",
       "  <thead>\n",
       "    <tr style=\"text-align: right;\">\n",
       "      <th></th>\n",
       "      <th>Country</th>\n",
       "      <th>Region</th>\n",
       "      <th>Happiness Rank</th>\n",
       "      <th>Happiness Score</th>\n",
       "      <th>Lower Confidence Interval</th>\n",
       "      <th>Upper Confidence Interval</th>\n",
       "      <th>Economy (GDP per Capita)</th>\n",
       "      <th>Family</th>\n",
       "      <th>Health (Life Expectancy)</th>\n",
       "      <th>Freedom</th>\n",
       "      <th>Trust (Government Corruption)</th>\n",
       "      <th>Generosity</th>\n",
       "      <th>Dystopia Residual</th>\n",
       "    </tr>\n",
       "  </thead>\n",
       "  <tbody>\n",
       "    <tr>\n",
       "      <th>0</th>\n",
       "      <td>Denmark</td>\n",
       "      <td>Western Europe</td>\n",
       "      <td>1</td>\n",
       "      <td>7.526</td>\n",
       "      <td>7.460</td>\n",
       "      <td>7.592</td>\n",
       "      <td>1.44178</td>\n",
       "      <td>1.16374</td>\n",
       "      <td>0.79504</td>\n",
       "      <td>0.57941</td>\n",
       "      <td>0.44453</td>\n",
       "      <td>0.36171</td>\n",
       "      <td>2.73939</td>\n",
       "    </tr>\n",
       "    <tr>\n",
       "      <th>1</th>\n",
       "      <td>Switzerland</td>\n",
       "      <td>Western Europe</td>\n",
       "      <td>2</td>\n",
       "      <td>7.509</td>\n",
       "      <td>7.428</td>\n",
       "      <td>7.590</td>\n",
       "      <td>1.52733</td>\n",
       "      <td>1.14524</td>\n",
       "      <td>0.86303</td>\n",
       "      <td>0.58557</td>\n",
       "      <td>0.41203</td>\n",
       "      <td>0.28083</td>\n",
       "      <td>2.69463</td>\n",
       "    </tr>\n",
       "    <tr>\n",
       "      <th>2</th>\n",
       "      <td>Iceland</td>\n",
       "      <td>Western Europe</td>\n",
       "      <td>3</td>\n",
       "      <td>7.501</td>\n",
       "      <td>7.333</td>\n",
       "      <td>7.669</td>\n",
       "      <td>1.42666</td>\n",
       "      <td>1.18326</td>\n",
       "      <td>0.86733</td>\n",
       "      <td>0.56624</td>\n",
       "      <td>0.14975</td>\n",
       "      <td>0.47678</td>\n",
       "      <td>2.83137</td>\n",
       "    </tr>\n",
       "    <tr>\n",
       "      <th>3</th>\n",
       "      <td>Norway</td>\n",
       "      <td>Western Europe</td>\n",
       "      <td>4</td>\n",
       "      <td>7.498</td>\n",
       "      <td>7.421</td>\n",
       "      <td>7.575</td>\n",
       "      <td>1.57744</td>\n",
       "      <td>1.12690</td>\n",
       "      <td>0.79579</td>\n",
       "      <td>0.59609</td>\n",
       "      <td>0.35776</td>\n",
       "      <td>0.37895</td>\n",
       "      <td>2.66465</td>\n",
       "    </tr>\n",
       "    <tr>\n",
       "      <th>4</th>\n",
       "      <td>Finland</td>\n",
       "      <td>Western Europe</td>\n",
       "      <td>5</td>\n",
       "      <td>7.413</td>\n",
       "      <td>7.351</td>\n",
       "      <td>7.475</td>\n",
       "      <td>1.40598</td>\n",
       "      <td>1.13464</td>\n",
       "      <td>0.81091</td>\n",
       "      <td>0.57104</td>\n",
       "      <td>0.41004</td>\n",
       "      <td>0.25492</td>\n",
       "      <td>2.82596</td>\n",
       "    </tr>\n",
       "  </tbody>\n",
       "</table>\n",
       "</div>"
      ],
      "text/plain": [
       "       Country          Region  Happiness Rank  Happiness Score  \\\n",
       "0      Denmark  Western Europe               1            7.526   \n",
       "1  Switzerland  Western Europe               2            7.509   \n",
       "2      Iceland  Western Europe               3            7.501   \n",
       "3       Norway  Western Europe               4            7.498   \n",
       "4      Finland  Western Europe               5            7.413   \n",
       "\n",
       "   Lower Confidence Interval  Upper Confidence Interval  \\\n",
       "0                      7.460                      7.592   \n",
       "1                      7.428                      7.590   \n",
       "2                      7.333                      7.669   \n",
       "3                      7.421                      7.575   \n",
       "4                      7.351                      7.475   \n",
       "\n",
       "   Economy (GDP per Capita)   Family  Health (Life Expectancy)  Freedom  \\\n",
       "0                   1.44178  1.16374                   0.79504  0.57941   \n",
       "1                   1.52733  1.14524                   0.86303  0.58557   \n",
       "2                   1.42666  1.18326                   0.86733  0.56624   \n",
       "3                   1.57744  1.12690                   0.79579  0.59609   \n",
       "4                   1.40598  1.13464                   0.81091  0.57104   \n",
       "\n",
       "   Trust (Government Corruption)  Generosity  Dystopia Residual  \n",
       "0                        0.44453     0.36171            2.73939  \n",
       "1                        0.41203     0.28083            2.69463  \n",
       "2                        0.14975     0.47678            2.83137  \n",
       "3                        0.35776     0.37895            2.66465  \n",
       "4                        0.41004     0.25492            2.82596  "
      ]
     },
     "execution_count": 83,
     "metadata": {},
     "output_type": "execute_result"
    }
   ],
   "source": [
    "happiness_index_csv = pd.read_csv(\"HappinessIndex2016.csv\")\n",
    "happiness_index_csv.head()\n",
    "\n"
   ]
  },
  {
   "cell_type": "code",
   "execution_count": 84,
   "metadata": {
    "collapsed": false
   },
   "outputs": [
    {
     "name": "stdout",
     "output_type": "stream",
     "text": [
      "Number of Countries with happiness score =  157\n",
      "Number of Countries with gdp per captia =  157\n"
     ]
    }
   ],
   "source": [
    "#obtaining the models\n",
    "\n",
    "#for a feature's values do reshape(-1,1)\n",
    "#for a single value, do reshape(1,-1)\n",
    "\n",
    "happiness_score = happiness_index_csv[\"Happiness Score\"].values.reshape(-1,1)\n",
    "gdp_per_capita = happiness_index_csv[\"Economy (GDP per Capita)\"].values.reshape(-1,1)\n",
    "\n",
    "\n",
    "\n",
    "\n",
    "print(\"Number of Countries with happiness score = \",len(happiness_score))\n",
    "print(\"Number of Countries with gdp per captia = \",len(gdp_per_capita))\n",
    "\n",
    "\n",
    "\n"
   ]
  },
  {
   "cell_type": "code",
   "execution_count": 85,
   "metadata": {
    "collapsed": false
   },
   "outputs": [
    {
     "data": {
      "image/png": "[encoded data removed]",
      "text/plain": [
       "<matplotlib.figure.Figure at 0x7fd8c23eb710>"
      ]
     },
     "metadata": {},
     "output_type": "display_data"
    }
   ],
   "source": [
    "plt.scatter(gdp_per_capita,happiness_score)\n",
    "plt.show()"
   ]
  },
  {
   "cell_type": "code",
   "execution_count": 86,
   "metadata": {
    "collapsed": false
   },
   "outputs": [
    {
     "data": {
      "text/plain": [
       "LinearRegression(copy_X=True, fit_intercept=True, n_jobs=1, normalize=True)"
      ]
     },
     "execution_count": 86,
     "metadata": {},
     "output_type": "execute_result"
    }
   ],
   "source": [
    "#Creating a model - Linear Regression observed from the graph of the data above\n",
    "\n",
    "\n",
    "model = sklearn.linear_model.LinearRegression(normalize=True)\n",
    "model.fit(gdp_per_capita,happiness_score) #reshaping done just for the data to work with the sklearn module"
   ]
  },
  {
   "cell_type": "code",
   "execution_count": 87,
   "metadata": {
    "collapsed": false
   },
   "outputs": [
    {
     "data": {
      "text/plain": [
       "0.62460889012201903"
      ]
     },
     "execution_count": 87,
     "metadata": {},
     "output_type": "execute_result"
    }
   ],
   "source": [
    "model.score(gdp_per_capita,happiness_score)"
   ]
  },
  {
   "cell_type": "code",
   "execution_count": 88,
   "metadata": {
    "collapsed": false
   },
   "outputs": [
    {
     "data": {
      "text/plain": [
       "array([[ 6.62021214]])"
      ]
     },
     "execution_count": 88,
     "metadata": {},
     "output_type": "execute_result"
    }
   ],
   "source": [
    "predict_for_x = np.array(1.52).reshape(1,-1)\n",
    "model.predict(predict_for_x)"
   ]
  },
  {
   "cell_type": "code",
   "execution_count": null,
   "metadata": {
    "collapsed": false
   },
   "outputs": [],
   "source": [
    "\n"
   ]
  },
  {
   "cell_type": "code",
   "execution_count": null,
   "metadata": {
    "collapsed": false
   },
   "outputs": [],
   "source": []
  },
  {
   "cell_type": "code",
   "execution_count": null,
   "metadata": {
    "collapsed": true
   },
   "outputs": [],
   "source": []
  }
 ],
 "metadata": {
  "kernelspec": {
   "display_name": "Python 3",
   "language": "python",
   "name": "python3"
  },
  "language_info": {
   "codemirror_mode": {
    "name": "ipython",
    "version": 3
   },
   "file_extension": ".py",
   "mimetype": "text/x-python",
   "name": "python",
   "nbconvert_exporter": "python",
   "pygments_lexer": "ipython3",
   "version": "3.5.2"
  }
 },
 "nbformat": 4,
 "nbformat_minor": 0
}
